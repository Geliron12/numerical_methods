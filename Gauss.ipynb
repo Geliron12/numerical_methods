{
 "cells": [
  {
   "cell_type": "code",
   "execution_count": 4,
   "metadata": {},
   "outputs": [],
   "source": [
    "def mGauss(n,a,b):\n",
    "    x=b\n",
    "    det=1#jопределитель\n",
    "    #прямой метод Гаусса\n",
    "    for i in range(n):\n",
    "        l=a[i][i]\n",
    "        det*=l\n",
    "        a[i][i]=1\n",
    "        for j in range(i+1,n):\n",
    "            a[i][j]/=l\n",
    "        b[i]/=l\n",
    "        for j in range(i+1,n):\n",
    "            l=a[j][i]\n",
    "            for k in range(i,n):\n",
    "                a[j][k] =a[j][k] - a[i][k]*l\n",
    "            b[j]-=b[i]*l\n",
    "    #определитель\n",
    "    if (det==0):\n",
    "        print('Определитель равен нулю')\n",
    "        return None\n",
    "    #обратный ход метода Гаусса\n",
    "    x[n-1]=b[n-1]\n",
    "    for i in range (n-2,-1,-1):\n",
    "        x[i] = b[i]\n",
    "        for j in range(i+1,n):\n",
    "            x[i]-=a[i][j]*x[j]\n",
    "    return x"
   ]
  },
  {
   "cell_type": "code",
   "execution_count": null,
   "metadata": {},
   "outputs": [],
   "source": []
  }
 ],
 "metadata": {
  "kernelspec": {
   "display_name": "Python 3",
   "language": "python",
   "name": "python3"
  },
  "language_info": {
   "codemirror_mode": {
    "name": "ipython",
    "version": 3
   },
   "file_extension": ".py",
   "mimetype": "text/x-python",
   "name": "python",
   "nbconvert_exporter": "python",
   "pygments_lexer": "ipython3",
   "version": "3.8.3"
  }
 },
 "nbformat": 4,
 "nbformat_minor": 4
}
