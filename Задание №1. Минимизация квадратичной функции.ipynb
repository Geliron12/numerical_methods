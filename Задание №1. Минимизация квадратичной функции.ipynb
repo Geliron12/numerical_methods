{
 "cells": [
  {
   "cell_type": "markdown",
   "metadata": {},
   "source": [
    "## Задание №1. Минимизация квадратичной функции\n",
    "С помощью программной реализации методов наискорейшего градиентного спуска и наискорейшего покоординатного спуска найти точку минмимума функции $$f(x,y,z)=2x^2 + 3,1y^2+4,1z^2+xy-yz+xz+x-2y+3z+1,$$ с точностью $\\varepsilon=10^{-6}$.\n",
    "\n",
    "Для начала импортируем библиотеку для работы с матрицами:"
   ]
  },
  {
   "cell_type": "code",
   "execution_count": 1,
   "metadata": {},
   "outputs": [],
   "source": [
    "from matrix import matrices"
   ]
  },
  {
   "cell_type": "markdown",
   "metadata": {},
   "source": [
    "Зададим исходную функцию:"
   ]
  },
  {
   "cell_type": "code",
   "execution_count": 2,
   "metadata": {},
   "outputs": [],
   "source": [
    "def f(x):\n",
    "    return (2*x[0][0]**2+3.1*x[1][0]**2+4.1*x[2][0]**2+x[0][0]*x[1][0]-x[1][0]*x[2][0]+\n",
    "           x[0][0]*x[2][0]+x[0][0]-2*x[1][0]+3*x[2][0]+1)"
   ]
  },
  {
   "cell_type": "markdown",
   "metadata": {},
   "source": [
    "Метод наискорейшего градиентного спуска:"
   ]
  },
  {
   "cell_type": "code",
   "execution_count": 3,
   "metadata": {},
   "outputs": [],
   "source": [
    "def gradient_descent(x0, A, b, eps):\n",
    "    xk=x0\n",
    "    q=A.matmul(xk)+b\n",
    "    m=-q.norm()**2/((q.getT()).matmul(A).matmul(q))\n",
    "    xk1=xk+q*m\n",
    "    counter=1\n",
    "    while(xk-xk1).norm()>=eps:\n",
    "        xk=xk1\n",
    "        q=A.matmul(xk)+b\n",
    "        m=-q.norm()**2/((q.getT()).matmul(A).matmul(q))\n",
    "        xk1=xk+q*m\n",
    "        counter+=1\n",
    "    return(xk1,counter)"
   ]
  },
  {
   "cell_type": "markdown",
   "metadata": {},
   "source": [
    "Метод наискорейшего покоординантного спуска:"
   ]
  },
  {
   "cell_type": "code",
   "execution_count": 4,
   "metadata": {},
   "outputs": [],
   "source": [
    "def coordinate_wise_descent(x0, A, b, eps):\n",
    "    xk=x0\n",
    "    m=[0,0,0]\n",
    "    e=matrices(3,3,'ones')\n",
    "    ei=[]\n",
    "    maxabs=0\n",
    "    k=0\n",
    "    \n",
    "    ##выбор координаты, по которой совершать движение\n",
    "    for i in range(e.shape[0]):\n",
    "        ei.append(matrices(1,3,[e.matrix[i]]).getT())\n",
    "        c=((ei[i].getT()).matmul(A)).matmul(ei[i])\n",
    "        m[i]=-((ei[i].getT()).matmul(A.matmul(xk)+b)/c)\n",
    "        if maxabs<abs(m[i]):\n",
    "            maxabs=abs(m[i])\n",
    "            k=m[i]\n",
    "    i=m.index(k)\n",
    "    xk1=xk+ei[i]*m[i]\n",
    "    counter=1 ##счетчик шагов\n",
    "    while(xk-xk1).norm()>=eps:\n",
    "        xk=xk1\n",
    "        maxabs=0\n",
    "        c=0\n",
    "        for i in range(e.shape[0]):\n",
    "            ei.append(matrices(1,3,[e.matrix[i]]).getT())\n",
    "            c=((ei[i].getT()).matmul(A)).matmul(ei[i])\n",
    "            m[i]=-((ei[i].getT()).matmul(A.matmul(xk)+b)/c)\n",
    "            if maxabs<abs(m[i]):\n",
    "                maxabs=abs(m[i])\n",
    "                k=m[i]\n",
    "        i=m.index(k)\n",
    "        xk1=xk+ei[i]*m[i]\n",
    "        counter+=1\n",
    "    return(xk1,counter)"
   ]
  },
  {
   "cell_type": "code",
   "execution_count": 5,
   "metadata": {},
   "outputs": [],
   "source": [
    "##задаем матрицу A\n",
    "A=matrices(3,3,[[4.,1.,1.],[1.,6.2,-1.],[1.,-1.,8.2]])\n",
    "\n",
    "##задаем векторы b и x0\n",
    "b=matrices(3,1,[[1.],[-2.],[3.]])\n",
    "x0=matrices(3,1,[[0],[0],[0]])\n",
    "eps=10**(-6)"
   ]
  },
  {
   "cell_type": "markdown",
   "metadata": {},
   "source": [
    "Вычисляем значения точки минимума:"
   ]
  },
  {
   "cell_type": "code",
   "execution_count": 6,
   "metadata": {},
   "outputs": [
    {
     "name": "stdout",
     "output_type": "stream",
     "text": [
      "Точка минимума, вычисленная методом наискорейшего градиентного спуска:\n",
      " [-0.25491876863728913]\n",
      "[0.3159159239386687]\n",
      "[-0.29623981021995915]\n",
      "\n",
      "Количество шагов: 15\n",
      "Значение функции 0.1122649759513289 \n",
      "\n",
      "Точка минимума, вычисленная методом наискорейшего покоординатного спуска:\n",
      " [-0.25491893906610524]\n",
      "[0.3159157762900213]\n",
      "[-0.29623966885900893]\n",
      "\n",
      "Количество шагов: 22\n",
      "Значение функции 0.11226497595125462\n"
     ]
    }
   ],
   "source": [
    "x1,c1=gradient_descent(x0, A, b, eps)\n",
    "x2,c2=coordinate_wise_descent(x0, A, b, eps)\n",
    "print('Точка минимума, вычисленная методом наискорейшего градиентного спуска:\\n',x1)\n",
    "print('Количество шагов:',c1)\n",
    "print('Значение функции',f(x1.matrix),'\\n')\n",
    "print('Точка минимума, вычисленная методом наискорейшего покоординатного спуска:\\n',x2)\n",
    "print('Количество шагов:',c2)\n",
    "print('Значение функции',f(x2.matrix))"
   ]
  },
  {
   "cell_type": "markdown",
   "metadata": {},
   "source": [
    "Теперь сравним с более точным ответом:"
   ]
  },
  {
   "cell_type": "code",
   "execution_count": 7,
   "metadata": {},
   "outputs": [
    {
     "name": "stdout",
     "output_type": "stream",
     "text": [
      "Точка минимума, вычисленная методом наискорейшего градиентного спуска:\n",
      "\n",
      "4.103580666372395e-07\n",
      "Точка минимума, вычисленная методом наискорейшего покоординатного спуска:\n",
      "\n",
      "3.237617835277722e-07\n",
      "Точное значение функции в точке\n",
      "0.11226497595102758\n",
      "Разница в значениях функции\n",
      "Градиентный метод 3.013145288832675e-13\n",
      "Покоординатный метод 2.270406085358445e-13\n"
     ]
    }
   ],
   "source": [
    "##точный ответ\n",
    "xr=matrices(3,1,[[-583/2287],[1445/4574],[-1355/4574]])\n",
    "print('Точка минимума, вычисленная методом наискорейшего градиентного спуска:\\n')          \n",
    "print((x1-xr).norm())\n",
    "print('Точка минимума, вычисленная методом наискорейшего покоординатного спуска:\\n')\n",
    "print((x2-xr).norm())\n",
    "##Точное значение функции\n",
    "print('Точное значение функции в точке')\n",
    "print(f(xr.matrix))\n",
    "\n",
    "print('Разница в значениях функции')\n",
    "print('Градиентный метод', abs(f(x1.matrix)-f(xr.matrix)))\n",
    "print('Покоординатный метод',abs(f(x2.matrix)-f(xr.matrix)))"
   ]
  },
  {
   "cell_type": "markdown",
   "metadata": {},
   "source": [
    "Таким образом, используя методы наискорейшего покоординатного и градиентного спуска мы смогли получить решение, удовлетворяющее заданной точности."
   ]
  }
 ],
 "metadata": {
  "kernelspec": {
   "display_name": "Python 3 (ipykernel)",
   "language": "python",
   "name": "python3"
  },
  "language_info": {
   "codemirror_mode": {
    "name": "ipython",
    "version": 3
   },
   "file_extension": ".py",
   "mimetype": "text/x-python",
   "name": "python",
   "nbconvert_exporter": "python",
   "pygments_lexer": "ipython3",
   "version": "3.9.12"
  }
 },
 "nbformat": 4,
 "nbformat_minor": 4
}
