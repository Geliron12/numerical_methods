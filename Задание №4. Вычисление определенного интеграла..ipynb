{
 "cells": [
  {
   "cell_type": "markdown",
   "metadata": {},
   "source": [
    "# Задание №4. Вычисление определенного интеграла."
   ]
  },
  {
   "cell_type": "markdown",
   "metadata": {},
   "source": [
    "## Часть №1. Квадратурные формулы Гаусса и Ньютона-Кот(е)са.\n",
    "\n",
    "1.1. Реализовать методы вычисления определенного интеграла с использованием составных квадратурных формул: средних и левых прямоугольников, трапеции, Симпсона. При этом весовая функция p(x)=1.\n",
    "    Интеграл имеет следующий вид:\n",
    "    $$J(f) = \\int_{a}^{b} (2cos(2.5x) e^{\\frac{x}{3}} + 4sin(3.5x)e^{-3x}+x )dx$$\n",
    "a=1.5, b=3.3"
   ]
  },
  {
   "cell_type": "markdown",
   "metadata": {},
   "source": [
    "Импортируем библеотеки"
   ]
  },
  {
   "cell_type": "code",
   "execution_count": 58,
   "metadata": {},
   "outputs": [],
   "source": [
    "import numpy as np\n",
    "import pandas as pd\n",
    "import random\n",
    "import matplotlib.pyplot as plt\n",
    "%matplotlib inline\n",
    "import seaborn as sns\n",
    "from matrix import matrices as mtx##матрицы\n",
    "from Gauss import mGauss as mg##метод Гаусса\n",
    "from scipy.special import comb"
   ]
  },
  {
   "cell_type": "markdown",
   "metadata": {},
   "source": [
    "Определяем функцию"
   ]
  },
  {
   "cell_type": "code",
   "execution_count": 60,
   "metadata": {},
   "outputs": [],
   "source": [
    "def f(x):\n",
    "    return np.cos(2.5*x)*np.exp(x/3) + 4*np.sin(3.5*x)*np.exp(-3*x)+x"
   ]
  },
  {
   "cell_type": "code",
   "execution_count": 61,
   "metadata": {},
   "outputs": [],
   "source": [
    "alpha=1/3\n",
    "a=1.5\n",
    "b=3.3\n",
    "intf=5.788184595133622 ##точное значение первого интеграла\n",
    "intf2=5.99745808123888 ##точное значение второго интеграла\n",
    "s=np.linspace(25,190,25)\n",
    "s=s.astype('int')"
   ]
  },
  {
   "cell_type": "markdown",
   "metadata": {},
   "source": [
    "СКФ левых прямоугольников:"
   ]
  },
  {
   "cell_type": "code",
   "execution_count": 64,
   "metadata": {},
   "outputs": [],
   "source": [
    "def left_rect(f,a,b,n):\n",
    "    x=np.linspace(a,b,n)\n",
    "    ans = 0\n",
    "    for i in range(n-1):\n",
    "        ans+=f(x[i])*(x[i+1]-x[i])\n",
    "    return ans"
   ]
  },
  {
   "cell_type": "markdown",
   "metadata": {},
   "source": [
    "Значения интеграла "
   ]
  },
  {
   "cell_type": "code",
   "execution_count": 65,
   "metadata": {},
   "outputs": [
    {
     "name": "stdout",
     "output_type": "stream",
     "text": [
      "Значение:  5.707568781267236 Точек:  25\n",
      "Значение:  5.724398920232172 Точек:  31\n",
      "Значение:  5.736900064362515 Точек:  38\n",
      "Значение:  5.745307491105749 Точек:  45\n",
      "Значение:  5.751348112733719 Точек:  52\n",
      "Значение:  5.755897631843763 Точек:  59\n",
      "Значение:  5.759447312310125 Точек:  66\n",
      "Значение:  5.76229402626808 Точек:  73\n",
      "Значение:  5.764627728108994 Точек:  80\n",
      "Значение:  5.766317287699652 Точек:  86\n",
      "Значение:  5.768005837525386 Точек:  93\n",
      "Значение:  5.769452351898347 Точек:  100\n",
      "Значение:  5.77070538277963 Точек:  107\n",
      "Значение:  5.771801311714718 Точек:  114\n",
      "Значение:  5.772767937951876 Точек:  121\n",
      "Значение:  5.773626867933124 Точек:  128\n",
      "Значение:  5.774395148623298 Точек:  135\n",
      "Значение:  5.77499193163437 Точек:  141\n",
      "Значение:  5.775626035025353 Точек:  148\n",
      "Значение:  5.77620198226942 Точек:  155\n",
      "Значение:  5.77672742263174 Точек:  162\n",
      "Значение:  5.777208720328073 Точек:  169\n",
      "Значение:  5.777651213487806 Точек:  176\n",
      "Значение:  5.778059412922843 Точек:  183\n",
      "Значение:  5.77843715641649 Точек:  190\n"
     ]
    }
   ],
   "source": [
    "x1=[]\n",
    "for j in s:\n",
    "    x1.append(left_rect(f,a,b,j))\n",
    "    print ('Значение: ',x1[-1],'Точек: ', j)    "
   ]
  },
  {
   "cell_type": "markdown",
   "metadata": {},
   "source": [
    "СКФ Средних прямоугольников:"
   ]
  },
  {
   "cell_type": "code",
   "execution_count": 66,
   "metadata": {},
   "outputs": [],
   "source": [
    "def mid_rect(f,a,b,n):\n",
    "    x=np.linspace(a,b,n)\n",
    "    ans = 0\n",
    "    for i in range(n-1):\n",
    "        ans+=f((x[i]+x[i+1])/2)*(x[i+1]-x[i])\n",
    "    return ans"
   ]
  },
  {
   "cell_type": "code",
   "execution_count": 67,
   "metadata": {},
   "outputs": [
    {
     "name": "stdout",
     "output_type": "stream",
     "text": [
      "Значение:  5.790393049991951 Точек:  25\n",
      "Значение:  5.789597512098785 Точек:  31\n",
      "Значение:  5.789113268981928 Точек:  38\n",
      "Значение:  5.788841207918208 Точек:  45\n",
      "Значение:  5.78867329503358 Точек:  52\n",
      "Значение:  5.788562432955589 Точек:  59\n",
      "Значение:  5.788485424331167 Точек:  66\n",
      "Значение:  5.788429767245506 Точек:  73\n",
      "Значение:  5.788388240222485 Точек:  80\n",
      "Значение:  5.788360502882317 Точек:  86\n",
      "Значение:  5.788334750979499 Точек:  93\n",
      "Значение:  5.788314266352981 Точек:  100\n",
      "Значение:  5.7882977046349255 Точек:  107\n",
      "Значение:  5.788284124522 Точек:  114\n",
      "Значение:  5.7882728509984815 Точек:  121\n",
      "Значение:  5.788263389799226 Точек:  128\n",
      "Значение:  5.788255372293155 Точек:  135\n",
      "Значение:  5.788249435508907 Точек:  141\n",
      "Значение:  5.788243407109346 Точек:  148\n",
      "Значение:  5.788238181955199 Точек:  155\n",
      "Значение:  5.788233623431549 Точек:  162\n",
      "Значение:  5.788229622779335 Точек:  169\n",
      "Значение:  5.788226092547424 Точек:  176\n",
      "Значение:  5.788222961772507 Точек:  183\n",
      "Значение:  5.788220172384711 Точек:  190\n"
     ]
    }
   ],
   "source": [
    "x2=[]\n",
    "for j in s:\n",
    "    x2.append(mid_rect(f,a,b,j))\n",
    "    print ('Значение: ',x2[-1],'Точек: ', j)  "
   ]
  },
  {
   "cell_type": "markdown",
   "metadata": {},
   "source": [
    "СКФ Симпсона"
   ]
  },
  {
   "cell_type": "code",
   "execution_count": 68,
   "metadata": {},
   "outputs": [],
   "source": [
    "def simpson(f,a,b,n):\n",
    "    x=np.linspace(a,b,n)\n",
    "    ans = 0\n",
    "    for i in range(n-1):\n",
    "        ans+=(x[i+1]-x[i])/6*(f(x[i]) + \n",
    "                              4*f((x[i]+x[i+1])/2) + f(x[i+1]))\n",
    "    return ans"
   ]
  },
  {
   "cell_type": "code",
   "execution_count": 69,
   "metadata": {
    "scrolled": false
   },
   "outputs": [
    {
     "name": "stdout",
     "output_type": "stream",
     "text": [
      "Значение:  5.788185207734901 Точек:  25\n",
      "Значение:  5.788184845997532 Точек:  31\n",
      "Значение:  5.78818470354019 Точек:  38\n",
      "Значение:  5.788184649335916 Точек:  45\n",
      "Значение:  5.788184625161635 Точек:  52\n",
      "Значение:  5.788184613084324 Точек:  59\n",
      "Значение:  5.78818460651331 Точек:  66\n",
      "Значение:  5.788184602692315 Точек:  73\n",
      "Значение:  5.78818460034873 Точек:  80\n",
      "Значение:  5.788184599024901 Точек:  86\n",
      "Значение:  5.788184597969017 Точек:  93\n",
      "Значение:  5.78818459724819 Точек:  100\n",
      "Значение:  5.7881845967425525 Точек:  107\n",
      "Значение:  5.788184596379411 Точек:  114\n",
      "Значение:  5.788184596113184 Точек:  121\n",
      "Значение:  5.788184595914424 Точек:  128\n",
      "Значение:  5.7881845957636155 Точек:  135\n",
      "Значение:  5.788184595662363 Точек:  141\n",
      "Значение:  5.788184595568616 Точек:  148\n",
      "Значение:  5.788184595494758 Точек:  155\n",
      "Значение:  5.788184595435931 Точек:  162\n",
      "Значение:  5.788184595388605 Точек:  169\n",
      "Значение:  5.78818459535019 Точек:  176\n",
      "Значение:  5.7881845953187465 Точек:  183\n",
      "Значение:  5.788184595292806 Точек:  190\n"
     ]
    }
   ],
   "source": [
    "x3=[]\n",
    "for j in s:\n",
    "    x3.append(simpson(f,a,b,j))\n",
    "    print ('Значение: ',x3[-1],'Точек: ', j)"
   ]
  },
  {
   "cell_type": "markdown",
   "metadata": {},
   "source": [
    "1.2 Реализовать методы вычисления определенного интеграла с использованием составных квадратурных формул Ньютона-Котса и Гаусса. Интеграл имеет следующий вид:\n",
    "$$J(f) = \\int_{a}^{b}\\frac{ (2cos(2.5x) e^{\\frac{x}{3}} + 4sin(3.5x)e^{-3x}+x )}{(x-1.5)^{\\frac{1}{3}}}dx$$"
   ]
  },
  {
   "cell_type": "markdown",
   "metadata": {},
   "source": [
    "Функция подсчета моментов"
   ]
  },
  {
   "cell_type": "code",
   "execution_count": 11,
   "metadata": {},
   "outputs": [],
   "source": [
    "def mu(x_1,x_2,a,n,alpha):\n",
    "    def integr(x):\n",
    "        s=0\n",
    "        for i in range(n+1):\n",
    "            s+=comb(n,i)*(x-a)**(n+1-i-alpha)*a**(i)/(n+1-i-alpha)\n",
    "        return s\n",
    "    return integr(x_2)-integr(x_1)"
   ]
  },
  {
   "cell_type": "markdown",
   "metadata": {},
   "source": [
    "СКФ Гаусса"
   ]
  },
  {
   "cell_type": "code",
   "execution_count": 72,
   "metadata": {},
   "outputs": [],
   "source": [
    "def KFGauss(f,a,b,n=None,h=None):\n",
    "    if h==None:\n",
    "        x=np.linspace(a,b,n)\n",
    "    else:\n",
    "        x=np.arange(a,b,h)\n",
    "        if x[-1]!=b:\n",
    "            x=np.append(x,b)\n",
    "        n=x.size\n",
    "    ans = 0\n",
    "    for i in range(n-1):\n",
    "        m=[]\n",
    "        for j in range(6):\n",
    "            m.append(mu(x[i],x[i+1],a,j,alpha))\n",
    "        w=[]\n",
    "        c=[]\n",
    "        for j in range(3):\n",
    "            w.append([m[j],m[1+j],m[2+j]])\n",
    "            c.append(-1*m[3+j])\n",
    "        d=mg(3,w,c)\n",
    "        X = Kardano(d)\n",
    "        w=[]\n",
    "        c=[]\n",
    "        for j in range(3):\n",
    "            w.append([X[0]**j,X[1]**j,X[2]**j])\n",
    "            c.append(m[j])\n",
    "        A = mg(3,w,c)\n",
    "        s = 0\n",
    "        for j in range(3):\n",
    "            s+=A[j]*f(X[j])\n",
    "        ans+=s\n",
    "    return ans"
   ]
  },
  {
   "cell_type": "code",
   "execution_count": 73,
   "metadata": {},
   "outputs": [],
   "source": [
    "def Kardano(a):\n",
    "    q = (2*a[2]**3/27 - a[2]*a[1]/3 + a[0])/2\n",
    "    p = (3*a[1] - a[2]**2)/9\n",
    "\n",
    "    if (q**2+p**3)>=0:\n",
    "        print('error')\n",
    "        print(q**2+p**3)\n",
    "        print(q,p)\n",
    "    else:\n",
    "        r=np.sqrt(abs(p))*q/abs(q)\n",
    "        phi = np.arccos(q/r**3)\n",
    "        z=[]\n",
    "        z.append(-2*r*np.cos(phi/3)-a[2]/3)\n",
    "        z.append(2*r*np.cos(np.pi/3-phi/3)-a[2]/3)\n",
    "        z.append(2*r*np.cos(np.pi/3+phi/3)-a[2]/3)\n",
    "        return z"
   ]
  },
  {
   "cell_type": "markdown",
   "metadata": {},
   "source": [
    "Значения интеграла"
   ]
  },
  {
   "cell_type": "code",
   "execution_count": 74,
   "metadata": {},
   "outputs": [
    {
     "name": "stdout",
     "output_type": "stream",
     "text": [
      "Значение:  5.997458081229873 Точек:  25\n",
      "Значение:  5.997458081235046 Точек:  31\n",
      "Значение:  5.997458081236642 Точек:  38\n",
      "Значение:  5.997458081236864 Точек:  45\n",
      "Значение:  5.997458081237155 Точек:  52\n",
      "Значение:  5.997458081236704 Точек:  59\n",
      "Значение:  5.997458081236883 Точек:  66\n",
      "Значение:  5.997458081237339 Точек:  73\n",
      "Значение:  5.997458081236712 Точек:  80\n",
      "Значение:  5.997458081236802 Точек:  86\n",
      "Значение:  5.997458081236833 Точек:  93\n",
      "Значение:  5.997458081236708 Точек:  100\n",
      "Значение:  5.9974580812367355 Точек:  107\n",
      "Значение:  5.997458081235669 Точек:  114\n",
      "Значение:  5.997458081236233 Точек:  121\n",
      "Значение:  5.9974580812350515 Точек:  128\n",
      "Значение:  5.997458081233581 Точек:  135\n",
      "Значение:  5.997458081233573 Точек:  141\n",
      "Значение:  5.997458081229865 Точек:  148\n",
      "Значение:  5.997458081231308 Точек:  155\n",
      "Значение:  5.997458081228174 Точек:  162\n",
      "Значение:  5.9974580812281495 Точек:  169\n",
      "Значение:  5.997458081228728 Точек:  176\n",
      "Значение:  5.997458081229234 Точек:  183\n",
      "Значение:  5.997458081227505 Точек:  190\n"
     ]
    }
   ],
   "source": [
    "x4=[]\n",
    "for j in s:\n",
    "    x4.append(KFGauss(f,a,b,j))\n",
    "    print ('Значение: ',x4[-1],'Точек: ', j)"
   ]
  },
  {
   "cell_type": "markdown",
   "metadata": {},
   "source": [
    "СКФ Ньютона-Кот(е)са"
   ]
  },
  {
   "cell_type": "code",
   "execution_count": 75,
   "metadata": {},
   "outputs": [],
   "source": [
    "def N_K(f,a,b,n=None,h=None):\n",
    "    if h==None:\n",
    "        x=np.linspace(a,b,n)\n",
    "    else:\n",
    "        x=np.arange(a,b,h)\n",
    "        if x[-1]!=b:\n",
    "            x=np.append(x,b)\n",
    "        n=x.size\n",
    "    ans = 0\n",
    "    for i in range(n-1):\n",
    "        m=[]\n",
    "        for j in range(3):\n",
    "            m.append(mu(x[i],x[i+1],a,j,alpha))\n",
    "        X = np.linspace(x[i],x[i+1],3)\n",
    "        w=[]\n",
    "        c=[]\n",
    "        for j in range(3):\n",
    "            w.append([X[0]**j,X[1]**j,X[2]**j])\n",
    "            c.append(m[j])\n",
    "        A = mg(3,w,c)\n",
    "        s = 0\n",
    "        for j in range(3):\n",
    "            s+=A[j]*f(X[j])\n",
    "        ans+=s\n",
    "    return ans"
   ]
  },
  {
   "cell_type": "code",
   "execution_count": 76,
   "metadata": {},
   "outputs": [
    {
     "name": "stdout",
     "output_type": "stream",
     "text": [
      "Значение:  5.997460655845505 Точек:  25\n",
      "Значение:  5.997459188076231 Точек:  31\n",
      "Значение:  5.997458582682165 Точек:  38\n",
      "Значение:  5.997458342215192 Точек:  45\n",
      "Значение:  5.997458230952652 Точек:  52\n",
      "Значение:  5.99745817354671 Точек:  59\n",
      "Значение:  5.997458141403849 Точек:  66\n",
      "Значение:  5.9974581222224534 Точек:  73\n",
      "Значение:  5.997458110176304 Точек:  80\n",
      "Значение:  5.99745810323122 Точек:  86\n",
      "Значение:  5.99745809758767 Точек:  93\n",
      "Значение:  5.997458093661306 Точек:  100\n",
      "Значение:  5.997458090857867 Точек:  107\n",
      "Значение:  5.997458088810683 Точек:  114\n",
      "Значение:  5.997458087286076 Точек:  121\n",
      "Значение:  5.997458086130793 Точек:  128\n",
      "Значение:  5.9974580852417585 Точек:  135\n",
      "Значение:  5.997458084637306 Точек:  141\n",
      "Значение:  5.997458084070979 Точек:  148\n",
      "Значение:  5.997458083619237 Точек:  155\n",
      "Значение:  5.997458083255151 Точек:  162\n",
      "Значение:  5.997458082958927 Точек:  169\n",
      "Значение:  5.997458082715829 Точек:  176\n",
      "Значение:  5.997458082514717 Точек:  183\n",
      "Значение:  5.9974580823471415 Точек:  190\n"
     ]
    }
   ],
   "source": [
    "x5=[]\n",
    "for j in s:\n",
    "    x5.append(N_K(f,a,b,j))\n",
    "    print ('Значение: ',x5[-1],'Точек: ', j)"
   ]
  },
  {
   "cell_type": "markdown",
   "metadata": {},
   "source": [
    "Графики изменения погрешности в зависимости от количества точек разбиения"
   ]
  },
  {
   "cell_type": "code",
   "execution_count": 91,
   "metadata": {
    "scrolled": false
   },
   "outputs": [
    {
     "data": {
      "text/plain": [
       "<matplotlib.legend.Legend at 0x189b4377fa0>"
      ]
     },
     "execution_count": 91,
     "metadata": {},
     "output_type": "execute_result"
    },
    {
     "data": {
      "image/png": "[encoded data removed]",
      "text/plain": [
       "<Figure size 720x360 with 1 Axes>"
      ]
     },
     "metadata": {
      "needs_background": "light"
     },
     "output_type": "display_data"
    }
   ],
   "source": [
    "plt.figure(figsize=(10,5))\n",
    "plt.grid()\n",
    "plt.plot(s,abs(np.array(x1)-intf))\n",
    "plt.plot(s,abs(np.array(x2)-intf))\n",
    "plt.plot(s,abs(np.array(x3)-intf))\n",
    "plt.plot(s,abs(np.array(x4)-intf2))\n",
    "plt.plot(s,abs(np.array(x5)-intf2))\n",
    "plt.legend(['левые прямоугольники','средние прямоугольники',\n",
    "            'Симпсон','Гаусс','Ньютон-Котс'])"
   ]
  },
  {
   "cell_type": "markdown",
   "metadata": {},
   "source": [
    "## Часть№2. Методы оценки погрешностей квадратурных формул.\n",
    "\n",
    "2.1 Вычислить определенный интеграл с точнгостью $\\varepsilon = 10^{-6}$ с использованием составной трехточечной формулы квадратурной формулы Ньтона-Котса."
   ]
  },
  {
   "cell_type": "code",
   "execution_count": 19,
   "metadata": {},
   "outputs": [],
   "source": [
    "eps=10**(-6)\n",
    "L=2"
   ]
  },
  {
   "cell_type": "markdown",
   "metadata": {},
   "source": [
    "Функция метода Ричардсона, с использованием некоторого метода (est)"
   ]
  },
  {
   "cell_type": "code",
   "execution_count": 78,
   "metadata": {},
   "outputs": [],
   "source": [
    "def Richardson(est, f, a, b, L,eps,H=1):\n",
    "    h=[]\n",
    "    h.append(H)\n",
    "    h.append(h[0]/L)\n",
    "    h.append(h[1]/L)\n",
    "    m = Eitken(est,f,a,b,h[0],h[1],h[2])\n",
    "    S = [est(f,a,b,h=h[0]),est(f,a,b,h=h[1])]\n",
    "    M = [[1, -h[0]**m],[1,-h[1]**m]]\n",
    "    coef = np.linalg.solve(M,S)\n",
    "    Rh=[]\n",
    "    for i in range(len(M)):\n",
    "        Rh.append(abs(coef[0]-S[i]))\n",
    "    Rmin = min(Rh)\n",
    "    r=2\n",
    "    while Rmin > eps:\n",
    "        print('Шаг: ', h[r])\n",
    "        print('Номер сетки : ', r+1)\n",
    "        m = Eitken(est,f,a,b,h[r-2],h[r-1],h[r])\n",
    "        print('Степень по Эйткену: ', m)\n",
    "        temp = [1]\n",
    "        for j in range(r-1):\n",
    "            temp.append(-h[r]**(m+j))\n",
    "        M.append(temp)\n",
    "        for j in range(len(M)):\n",
    "            M[j].append(-h[j]**(m+r-1))\n",
    "        S.append(est(f,a,b,h=h[r]))\n",
    "        coef = np.linalg.solve(M,S)\n",
    "        Rh=[]\n",
    "        for i in range(len(M)):\n",
    "            Rh.append(abs(coef[0]-S[i]))\n",
    "        Rmin = min(Rh)\n",
    "        h.append(h[r]/L)\n",
    "        r+=1\n",
    "    i=Rh.index(Rmin)\n",
    "    print('\\n')\n",
    "    print('Численный интеграл: ', S[i])\n",
    "    print('Полученный шаг: ', h[i])\n",
    "    print('Номер сетки:',i)\n",
    "    print('Вычисленная точность: ', Rmin)\n",
    "    return (S[i],h[i],i,Rmin)"
   ]
  },
  {
   "cell_type": "markdown",
   "metadata": {},
   "source": [
    "Функция, вычисляющая скорость сходимости по ЭЙткену:"
   ]
  },
  {
   "cell_type": "code",
   "execution_count": 79,
   "metadata": {},
   "outputs": [],
   "source": [
    "def Eitken(est,f,a,b,h1,h2,h3):\n",
    "    Sh1=est(f,a,b,h=h1)\n",
    "    Sh2=est(f,a,b,h=h2)\n",
    "    Sh3=est(f,a,b,h=h3)\n",
    "    return -np.log(abs(Sh3-Sh2)/abs(Sh2-Sh1))/np.log(2)"
   ]
  },
  {
   "cell_type": "markdown",
   "metadata": {},
   "source": [
    "Процесс сходимости по методу Ричардсона:"
   ]
  },
  {
   "cell_type": "code",
   "execution_count": 86,
   "metadata": {
    "scrolled": false
   },
   "outputs": [
    {
     "name": "stdout",
     "output_type": "stream",
     "text": [
      "Шаг:  0.44999999999999996\n",
      "Номер сетки :  3\n",
      "Степень по Эйткену:  4.010583981749054\n",
      "Шаг:  0.22499999999999998\n",
      "Номер сетки :  4\n",
      "Степень по Эйткену:  3.9087696070038533\n",
      "Шаг:  0.11249999999999999\n",
      "Номер сетки :  5\n",
      "Степень по Эйткену:  3.8697613804441713\n",
      "Шаг:  0.056249999999999994\n",
      "Номер сетки :  6\n",
      "Степень по Эйткену:  3.8257594162625934\n",
      "\n",
      "\n",
      "Численный интеграл:  5.997458948589389\n",
      "Полученный шаг:  0.056249999999999994\n",
      "Номер сетки: 5\n",
      "Вычисленная точность:  9.311971576053679e-07\n"
     ]
    }
   ],
   "source": [
    "e = Richardson(N_K, f, a, b, L,eps, H=b-a)"
   ]
  },
  {
   "cell_type": "markdown",
   "metadata": {},
   "source": [
    "2.2 Метод Ричардсона, составная квадратурная формула Гаусса"
   ]
  },
  {
   "cell_type": "code",
   "execution_count": 87,
   "metadata": {},
   "outputs": [
    {
     "name": "stdout",
     "output_type": "stream",
     "text": [
      "Шаг:  0.44999999999999996\n",
      "Номер сетки :  3\n",
      "Степень по Эйткену:  8.399435399896587\n",
      "\n",
      "\n",
      "Численный интеграл:  5.9974575561228045\n",
      "Полученный шаг:  0.44999999999999996\n",
      "Номер сетки: 2\n",
      "Вычисленная точность:  1.2697646045722877e-07\n"
     ]
    }
   ],
   "source": [
    "e = Richardson(KFGauss, f, a, b, L,eps, H=b-a)"
   ]
  },
  {
   "cell_type": "markdown",
   "metadata": {},
   "source": [
    "сходимость степени"
   ]
  },
  {
   "cell_type": "code",
   "execution_count": 88,
   "metadata": {},
   "outputs": [
    {
     "name": "stdout",
     "output_type": "stream",
     "text": [
      "4.010583981749054\n",
      "3.9087696070038533\n",
      "3.85475549586323\n",
      "3.813760059638937\n",
      "3.7832572009095293\n",
      "3.754268379092669\n"
     ]
    }
   ],
   "source": [
    "n=[1,2,5,10,20,50]\n",
    "for i in n:\n",
    "    print(Eitken(N_K,f,a,b,(b-a)/i,(b-a)/(2*i),(b-a)/(4*i)))"
   ]
  },
  {
   "cell_type": "markdown",
   "metadata": {},
   "source": [
    "2.3 Оценить оптимальный шаг используя скорость сходимости по Эйткену, и начать с него метод Ричардсона."
   ]
  },
  {
   "cell_type": "code",
   "execution_count": 89,
   "metadata": {},
   "outputs": [],
   "source": [
    "def hopt(est,f,a,b,L,eps):\n",
    "    h = b-a\n",
    "    h1 = (b-a)/2\n",
    "    h2 = (b-a)/4\n",
    "    m = Eitken(N_K,f,a,b,b-a,(b-a)/2,(b-a)/4)\n",
    "    ans = (eps*(1-L**(-m))/abs(est(f,a,b,n=None,h=h1)-est(f,a,b,n=None,h=h2)))**(1/m)\n",
    "    return ans"
   ]
  },
  {
   "cell_type": "code",
   "execution_count": 90,
   "metadata": {},
   "outputs": [
    {
     "name": "stdout",
     "output_type": "stream",
     "text": [
      "0.07262896129168561\n"
     ]
    }
   ],
   "source": [
    "h=hopt(N_K,f,a,b,L,eps)\n",
    "print(h)"
   ]
  },
  {
   "cell_type": "code",
   "execution_count": 56,
   "metadata": {},
   "outputs": [
    {
     "name": "stdout",
     "output_type": "stream",
     "text": [
      "\n",
      "\n",
      "Численный интеграл:  5.997458248048308\n",
      "Полученный шаг:  0.036314480645842806\n",
      "Номер сетки: 1\n",
      "Вычисленная точность:  1.666088405016808e-07\n"
     ]
    }
   ],
   "source": [
    "e=Richardson(N_K, f, a, b, L,eps,H=h)"
   ]
  },
  {
   "cell_type": "markdown",
   "metadata": {},
   "source": [
    "Мы нашли больший шаг сетки, при котором достигается нужная точность, используя одну итерацию."
   ]
  }
 ],
 "metadata": {
  "kernelspec": {
   "display_name": "Python 3",
   "language": "python",
   "name": "python3"
  },
  "language_info": {
   "codemirror_mode": {
    "name": "ipython",
    "version": 3
   },
   "file_extension": ".py",
   "mimetype": "text/x-python",
   "name": "python",
   "nbconvert_exporter": "python",
   "pygments_lexer": "ipython3",
   "version": "3.8.3"
  }
 },
 "nbformat": 4,
 "nbformat_minor": 4
}
