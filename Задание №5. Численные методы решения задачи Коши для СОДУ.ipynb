{
 "cells": [
  {
   "cell_type": "markdown",
   "metadata": {},
   "source": [
    "# Задание №5. Численные методы решения задачи Коши для СОДУ"
   ]
  },
  {
   "cell_type": "markdown",
   "metadata": {},
   "source": [
    "Импорт библиотек:"
   ]
  },
  {
   "cell_type": "code",
   "execution_count": 94,
   "metadata": {},
   "outputs": [],
   "source": [
    "import numpy as np\n",
    "from math import sqrt\n",
    "import matplotlib.pyplot as plt"
   ]
  },
  {
   "cell_type": "markdown",
   "metadata": {},
   "source": [
    "Параметры:"
   ]
  },
  {
   "cell_type": "code",
   "execution_count": 95,
   "metadata": {},
   "outputs": [],
   "source": [
    "A=1/30\n",
    "B=1/15\n",
    "c2 = 1/20\n",
    "eps = 10**(-4)\n",
    "y0 = np.array([B*np.pi,A*np.pi])\n",
    "x0=0\n",
    "xk = np.pi"
   ]
  },
  {
   "cell_type": "markdown",
   "metadata": {},
   "source": [
    "Функция правой части:"
   ]
  },
  {
   "cell_type": "code",
   "execution_count": 96,
   "metadata": {},
   "outputs": [],
   "source": [
    "def f(x,y):\n",
    "    return(np.array([A*y[1],-B*y[0]]))"
   ]
  },
  {
   "cell_type": "markdown",
   "metadata": {},
   "source": [
    "Функция вычисления коэффициентов:"
   ]
  },
  {
   "cell_type": "code",
   "execution_count": 97,
   "metadata": {},
   "outputs": [],
   "source": [
    "def get_koefs_2(c2):\n",
    "    a = c2\n",
    "    b1 = 1-1/(2*c2)\n",
    "    b2 = 1/(2*c2)\n",
    "    return a,b1,b2"
   ]
  },
  {
   "cell_type": "markdown",
   "metadata": {},
   "source": [
    "Функция вычисления начального шага:"
   ]
  },
  {
   "cell_type": "code",
   "execution_count": 98,
   "metadata": {},
   "outputs": [],
   "source": [
    "def start_step(f,s,x0,xk,y0,eps):\n",
    "    f=f(x0,y0)\n",
    "    delta = (1/max(abs(x0),abs(xk)))**(s+1) + (np.linalg.norm(f))**(s+1)\n",
    "    h = (eps/delta)**(1/(s+1))\n",
    "    return h"
   ]
  },
  {
   "cell_type": "markdown",
   "metadata": {},
   "source": [
    "Корректирующие функции:"
   ]
  },
  {
   "cell_type": "code",
   "execution_count": 99,
   "metadata": {},
   "outputs": [],
   "source": [
    "def k1(h,f,x,y):\n",
    "    return h*f(x,y)\n",
    "def k2(h,f,c2,a1,x,y,k_1):\n",
    "    return h*f(x+c2*h,y+a1*k_1)\n",
    "def k3(h,f,c2,a1,x,y,k_2):\n",
    "    return h*f(x+c2*h,y+a1*k_2)\n",
    "def k4(h,f,c2,a1,x,y,k_3):\n",
    "    return h*f(x+c2*h,y+a1*k_3)"
   ]
  },
  {
   "cell_type": "markdown",
   "metadata": {},
   "source": [
    "Вычисление приближенного значения функции с заданным шагом:"
   ]
  },
  {
   "cell_type": "code",
   "execution_count": 100,
   "metadata": {},
   "outputs": [],
   "source": [
    "def y_step(x,y,f,coefs,h):\n",
    "    k_1 = k1(h,f,x,y)\n",
    "    return(y + coefs[1]*k_1 + coefs[2]*k2(h,f,c2,coefs[0],x,y,k_1),2)"
   ]
  },
  {
   "cell_type": "markdown",
   "metadata": {},
   "source": [
    "Метод с постоянным шагом:"
   ]
  },
  {
   "cell_type": "code",
   "execution_count": 101,
   "metadata": {},
   "outputs": [],
   "source": [
    "def R_K(x0,xk,y0,h,coefs,step_fun):\n",
    "    counter = 0\n",
    "    y=[]\n",
    "    y.append(y0)\n",
    "    x = x0\n",
    "    xlist=[]\n",
    "    xlist.append(x0)\n",
    "    while x != xk:\n",
    "        if abs(xk-x) < h:\n",
    "            h = (xk-x)\n",
    "        y_new,m = step_fun(xlist[-1],y[-1],f,coefs,h)\n",
    "        counter+=m\n",
    "        y.append(y_new)\n",
    "        x+=h\n",
    "        xlist.append(x)\n",
    "    return y, xlist, counter"
   ]
  },
  {
   "cell_type": "markdown",
   "metadata": {},
   "source": [
    "Вычисление погрешности по методу Рунге:"
   ]
  },
  {
   "cell_type": "code",
   "execution_count": 102,
   "metadata": {},
   "outputs": [],
   "source": [
    "def R(y1,y2,s,flag=0):\n",
    "    if flag==0:\n",
    "        return np.linalg.norm(y2-y1)/(1-2**(-s))\n",
    "    else:\n",
    "        return np.linalg.norm(y2-y1)/(2**s-1)"
   ]
  },
  {
   "cell_type": "markdown",
   "metadata": {},
   "source": [
    "Функции вычисления истинного значения в точке:"
   ]
  },
  {
   "cell_type": "code",
   "execution_count": 103,
   "metadata": {},
   "outputs": [],
   "source": [
    "def real_z(x):\n",
    "    C1 = -1/15*np.pi\n",
    "    C2 = 1/(30*sqrt(2))*np.pi\n",
    "    y1 = C2*np.sin(x/(15*sqrt(2))) - C1*np.cos(x/(15*sqrt(2)))\n",
    "    y2 = sqrt(2)*C1*np.sin(x/(15*sqrt(2))) + sqrt(2)*C2*np.cos(x/(15*sqrt(2)))\n",
    "    return([y1,y2])"
   ]
  },
  {
   "cell_type": "markdown",
   "metadata": {},
   "source": [
    "Автоматический выбор шага:"
   ]
  },
  {
   "cell_type": "code",
   "execution_count": 104,
   "metadata": {},
   "outputs": [],
   "source": [
    "def auto_step(x,y,h,tol,s,coefs,step_fun,num):\n",
    "    counter = num\n",
    "    y1,m = step_fun(x,y,f,coefs,h)\n",
    "    counter+=m\n",
    "    y2,m = step_fun(x,y,f,coefs,h/2)\n",
    "    counter+=m\n",
    "    y2,m = step_fun(x+h/2,y2,f,coefs,h/2)\n",
    "    counter+=m\n",
    "    Rq = abs(R(y1,y2,s,flag=0))\n",
    "    if Rq > 2**s*tol:\n",
    "        h=h/2\n",
    "        return(auto_step(x,y,h,tol,s,coefs,step_fun,counter))\n",
    "    elif tol < Rq <= 2**s*tol:\n",
    "        return (h/2,y2,Rq,x+h,counter)\n",
    "    elif tol/(2**(s+1)) < Rq <= tol:\n",
    "        return(h,y1,Rq,x+h,counter)\n",
    "    elif Rq <= tol/(2**(s+1)):\n",
    "        return(2*h, y1, Rq,x+h,counter)"
   ]
  },
  {
   "cell_type": "markdown",
   "metadata": {},
   "source": [
    "Общая функция для приближенного вычисления решения:"
   ]
  },
  {
   "cell_type": "code",
   "execution_count": 198,
   "metadata": {},
   "outputs": [],
   "source": [
    "def custom_R_K(x0,xk,y0,eps,tol,step_fun,s,c2=None, mode = 'standart'):\n",
    "    h = start_step(f,s,x0,xk,y0,tol)\n",
    "    counter = 0\n",
    "    if c2 == None:\n",
    "        coefs=[]\n",
    "    else:\n",
    "        coefs = get_koefs_2(c2)\n",
    "        \n",
    "    ##Случай авто\n",
    "    if mode == 'auto':\n",
    "        Rq = []\n",
    "        y=[]\n",
    "        steps=[]\n",
    "        y.append(y0)\n",
    "        x = x0\n",
    "        xlist=[]\n",
    "        xlist.append(x0)\n",
    "        while x != xk:\n",
    "            if abs(xk-x) < h:\n",
    "                h=xk-x\n",
    "                y_new,m = step_fun(x,y[-1],f,coefs,h)\n",
    "                counter+=m\n",
    "                steps.append(h)\n",
    "                h=h/2\n",
    "                y2,m = step_fun(x,y[-1],f,coefs,h)\n",
    "                counter+=m\n",
    "                y2,m = step_fun(x,y2,f,coefs,h)\n",
    "                counter+=m\n",
    "                Rq.append(abs(R(y_new,y2,s,flag=0)))\n",
    "                y.append(y_new)\n",
    "                x=xk\n",
    "                xlist.append(x)\n",
    "            else:\n",
    "                steps.append(h)\n",
    "                h,y1,r,x,m = auto_step(x,y[-1],h,eps,s,coefs,step_fun,0)\n",
    "                counter+=m\n",
    "                xlist.append(x)\n",
    "                Rq.append(r)\n",
    "                y.append(y1)\n",
    "        return y, xlist, steps,Rq, counter\n",
    "    \n",
    "    ##случай постоянного шага\n",
    "    else:\n",
    "        y1,x1,m = R_K(x0,xk,y0,h,coefs,step_fun)\n",
    "        counter+=m\n",
    "        while True:\n",
    "            y2,x2,m = R_K(x0,xk,y0,h/2,coefs,step_fun)\n",
    "            counter+=m\n",
    "            R1 = abs(R(y1[-1],y2[-1],s,flag=0))\n",
    "            R2 = abs(R(y1[-1],y2[-1],s,flag=1))\n",
    "            if R1 < eps:\n",
    "                ansy = y1\n",
    "                ansx = x1\n",
    "                step = h\n",
    "                Rq = R1\n",
    "                break\n",
    "            if R2 < eps:\n",
    "                ansy = y2\n",
    "                ansx = x2\n",
    "                step = h/2\n",
    "                Rq = R2\n",
    "                break\n",
    "            h = h/2\n",
    "            y1,x1=y2,x2\n",
    "        return ansy,ansx,step, Rq,counter"
   ]
  },
  {
   "cell_type": "code",
   "execution_count": 194,
   "metadata": {
    "scrolled": true
   },
   "outputs": [
    {
     "name": "stdout",
     "output_type": "stream",
     "text": [
      "Полученное решение: [0.21807575 0.05985268]\n",
      "Количество обращений к правой части:  22\n",
      "Шаг:  1\n"
     ]
    }
   ],
   "source": [
    "eps = 10**(-4)\n",
    "y,x,step,Rq,count=custom_R_K(x0,xk,y0,eps,eps,y_step,2,c2)\n",
    "print('Полученное решение:', y[-1])\n",
    "print('Количество обращений к правой части: ',count)\n",
    "print('Шаг: ',step)"
   ]
  },
  {
   "cell_type": "markdown",
   "metadata": {},
   "source": [
    "График зависимости истинной полной погрешности от значения независимой переменной:"
   ]
  },
  {
   "cell_type": "code",
   "execution_count": 107,
   "metadata": {},
   "outputs": [
    {
     "data": {
      "image/png": "[encoded data removed]",
      "text/plain": [
       "<Figure size 432x288 with 1 Axes>"
      ]
     },
     "metadata": {
      "needs_background": "light"
     },
     "output_type": "display_data"
    }
   ],
   "source": [
    "x = np.array(x)\n",
    "z = real_z(x)\n",
    "y = np.array(y)\n",
    "z1 = np.reshape(z[0],(len(y),1))\n",
    "z2 = np.reshape(z[1],(len(y),1))\n",
    "z = np.concatenate((z1,z2),axis=1)\n",
    "plt.plot(x,np.linalg.norm(z-y,axis=1))\n",
    "plt.scatter(x,np.linalg.norm(z-y,axis=1))\n",
    "plt.grid()"
   ]
  },
  {
   "cell_type": "markdown",
   "metadata": {},
   "source": [
    "Отличие от аналитического:"
   ]
  },
  {
   "cell_type": "code",
   "execution_count": 108,
   "metadata": {},
   "outputs": [],
   "source": [
    "z=real_z(np.pi)"
   ]
  },
  {
   "cell_type": "code",
   "execution_count": 109,
   "metadata": {},
   "outputs": [
    {
     "data": {
      "text/plain": [
       "(-4.9775494614934246e-08, 3.529162080281867e-07)"
      ]
     },
     "execution_count": 109,
     "metadata": {},
     "output_type": "execute_result"
    }
   ],
   "source": [
    "z[0]-y[-1][0],z[1]-y[-1][1]"
   ]
  },
  {
   "cell_type": "code",
   "execution_count": 110,
   "metadata": {
    "scrolled": true
   },
   "outputs": [
    {
     "name": "stdout",
     "output_type": "stream",
     "text": [
      "Полученное решение: [0.21807502 0.05985707]\n",
      "Количество обращений к правой части:  48\n",
      "Шаги:  [0.03141495859922239, 0.06282991719844477, 0.12565983439688955, 0.2513196687937791, 0.5026393375875582, 1.0052786751751164, 1.0052786751751164, 0.15717158666366648]\n"
     ]
    }
   ],
   "source": [
    "eps = 10**(-5)\n",
    "y,x,step,Rq,count=custom_R_K(x0,xk,y0,eps,eps/10,y_step,2,c2,mode = 'auto')\n",
    "print('Полученное решение:', y[-1])\n",
    "print('Количество обращений к правой части: ',count)\n",
    "print('Шаги: ',step)"
   ]
  },
  {
   "cell_type": "code",
   "execution_count": 111,
   "metadata": {},
   "outputs": [
    {
     "data": {
      "image/png": "[encoded data removed]",
      "text/plain": [
       "<Figure size 432x288 with 1 Axes>"
      ]
     },
     "metadata": {
      "needs_background": "light"
     },
     "output_type": "display_data"
    }
   ],
   "source": [
    "x = np.array(x)\n",
    "z = real_z(x)\n",
    "y = np.array(y)\n",
    "z1 = np.reshape(z[0],(len(y),1))\n",
    "z2 = np.reshape(z[1],(len(y),1))\n",
    "z = np.concatenate((z1,z2),axis=1)\n",
    "plt.plot(x,np.linalg.norm(z-y,axis=1))\n",
    "plt.scatter(x,np.linalg.norm(z-y,axis=1))\n",
    "plt.grid()"
   ]
  },
  {
   "cell_type": "markdown",
   "metadata": {},
   "source": [
    "Отличие от аналитического:"
   ]
  },
  {
   "cell_type": "code",
   "execution_count": 112,
   "metadata": {
    "scrolled": true
   },
   "outputs": [],
   "source": [
    "z=real_z(np.pi)"
   ]
  },
  {
   "cell_type": "code",
   "execution_count": 113,
   "metadata": {
    "scrolled": true
   },
   "outputs": [
    {
     "data": {
      "text/plain": [
       "(-1.8949279856350643e-06, 1.1657368108437816e-05)"
      ]
     },
     "execution_count": 113,
     "metadata": {},
     "output_type": "execute_result"
    }
   ],
   "source": [
    "z[0]-y[-1][0],z[1]-y[-1][1]"
   ]
  },
  {
   "cell_type": "markdown",
   "metadata": {},
   "source": [
    "# Классический метод Рунге-Кутты"
   ]
  },
  {
   "cell_type": "markdown",
   "metadata": {},
   "source": [
    "Используем классический метод Рунге-Кутты"
   ]
  },
  {
   "cell_type": "code",
   "execution_count": 114,
   "metadata": {},
   "outputs": [],
   "source": [
    "def y_step_cls(x,y,f,coefs,h):\n",
    "    k_1 = k1(h,f,x,y)\n",
    "    k_2 = k2(h,f,1/2,1/2,x,y,k_1)\n",
    "    k_3 = k3(h,f,1/2,1/2,x,y,k_2)\n",
    "    return (y+1/6*(k_1+2*k_2+2*k_3+k4(h,f,1,1,x,y,k_3)),4)"
   ]
  },
  {
   "cell_type": "markdown",
   "metadata": {},
   "source": [
    "Метод с постоянным шагом"
   ]
  },
  {
   "cell_type": "code",
   "execution_count": 115,
   "metadata": {
    "scrolled": true
   },
   "outputs": [
    {
     "name": "stdout",
     "output_type": "stream",
     "text": [
      "Полученное решение: [0.21807313 0.05986873]\n",
      "Количество обращений к правой части:  80\n",
      "Шаг:  0.49790886219738784\n"
     ]
    }
   ],
   "source": [
    "eps = 10**(-4)\n",
    "y,x,step,Rq,count=custom_R_K(x0,xk,y0,eps,eps,y_step_cls,4)\n",
    "print('Полученное решение:', y[-1])\n",
    "print('Количество обращений к правой части: ',count)\n",
    "print('Шаг: ',step)"
   ]
  },
  {
   "cell_type": "markdown",
   "metadata": {},
   "source": [
    "Отличие от аналитического:"
   ]
  },
  {
   "cell_type": "code",
   "execution_count": 116,
   "metadata": {},
   "outputs": [
    {
     "data": {
      "text/plain": [
       "(1.660260817715198e-11, -1.0946458323113362e-10)"
      ]
     },
     "execution_count": 116,
     "metadata": {},
     "output_type": "execute_result"
    }
   ],
   "source": [
    "z[0]-y[-1][0],z[1]-y[-1][1]"
   ]
  },
  {
   "cell_type": "markdown",
   "metadata": {},
   "source": [
    "Метод с автоматическим выбором шага"
   ]
  },
  {
   "cell_type": "code",
   "execution_count": 120,
   "metadata": {},
   "outputs": [
    {
     "name": "stdout",
     "output_type": "stream",
     "text": [
      "Полученное решение: [0.21807313 0.05986874]\n",
      "Количество обращений к правой части:  36\n",
      "Шаг:  0.49790886219738784\n"
     ]
    }
   ],
   "source": [
    "eps = 10**(-5)\n",
    "y,x,Rq,steps,count=custom_R_K(x0,xk,y0,eps,eps*10,y_step_cls,4,mode = 'auto')\n",
    "print('Полученное решение:', y[-1])\n",
    "print('Количество обращений к правой части: ',count)\n",
    "print('Шаг: ',step)"
   ]
  },
  {
   "cell_type": "markdown",
   "metadata": {},
   "source": [
    "Отличие от аналитического:"
   ]
  },
  {
   "cell_type": "code",
   "execution_count": 121,
   "metadata": {},
   "outputs": [
    {
     "data": {
      "text/plain": [
       "(1.4275756132775541e-09, -7.761914389003977e-09)"
      ]
     },
     "execution_count": 121,
     "metadata": {},
     "output_type": "execute_result"
    }
   ],
   "source": [
    "z[0]-y[-1][0],z[1]-y[-1][1]"
   ]
  },
  {
   "cell_type": "markdown",
   "metadata": {},
   "source": [
    "## Вычисление графиков зависимости величины шага интегрирования от значения независимой переменной 𝑥:"
   ]
  },
  {
   "cell_type": "markdown",
   "metadata": {},
   "source": [
    "2-ух этапный метод:"
   ]
  },
  {
   "cell_type": "code",
   "execution_count": 199,
   "metadata": {},
   "outputs": [
    {
     "data": {
      "image/png": "[encoded data removed]",
      "text/plain": [
       "<Figure size 432x288 with 1 Axes>"
      ]
     },
     "metadata": {
      "needs_background": "light"
     },
     "output_type": "display_data"
    }
   ],
   "source": [
    "eps = 10**(-5)\n",
    "y2,x2,steps2,Rq2,count2=custom_R_K(x0,xk,y0,eps,eps*10,y_step,2,c2,mode = 'auto')\n",
    "plt.plot(x2[0:-1],steps2)\n",
    "plt.scatter(x2[0:-1],steps2)\n",
    "plt.grid()"
   ]
  },
  {
   "cell_type": "markdown",
   "metadata": {},
   "source": [
    "4-ех этапный метод:"
   ]
  },
  {
   "cell_type": "code",
   "execution_count": 200,
   "metadata": {
    "scrolled": false
   },
   "outputs": [
    {
     "data": {
      "image/png": "[encoded data removed]",
      "text/plain": [
       "<Figure size 432x288 with 1 Axes>"
      ]
     },
     "metadata": {
      "needs_background": "light"
     },
     "output_type": "display_data"
    }
   ],
   "source": [
    "eps = 10**(-5)\n",
    "y1,x1,steps1,Rq1,count1=custom_R_K(x0,xk,y0,eps,eps*10,y_step_cls,4,mode = 'auto')\n",
    "plt.plot(x1[0:-1],steps1)\n",
    "plt.scatter(x1[0:-1],steps1)\n",
    "plt.grid()"
   ]
  },
  {
   "cell_type": "markdown",
   "metadata": {},
   "source": [
    "## Графики зависимости отношения истинной локальной погрешности к полученной оценке локальной погрешности от значения независимой переменной 𝑥:"
   ]
  },
  {
   "cell_type": "markdown",
   "metadata": {},
   "source": [
    "Подсчет решения задачи Коши в заданной точке и с заданными начальными значениями"
   ]
  },
  {
   "cell_type": "code",
   "execution_count": 201,
   "metadata": {},
   "outputs": [],
   "source": [
    "def real_y(x,x0,y):\n",
    "    if x0<10**(-5):\n",
    "        C1 = -1/15*np.pi\n",
    "        C2 = 1/(30*sqrt(2))*np.pi\n",
    "    else :\n",
    "        C1 = (y[1]-sqrt(2)*y[0]*(np.tan(x0/(15*sqrt(2)))**(-1)))/(sqrt(2)*(np.sin(x0/(15*sqrt(2)))+np.cos(x0/(15*sqrt(2)))*np.tan(x0/(15*sqrt(2)))**(-1)))\n",
    "        C2 = (y[0]+C1*np.cos(x0/(15*sqrt(2))))/np.sin(x0/(15*sqrt(2)))\n",
    "        print(C1,C2)\n",
    "    y1 = C2*np.sin(x/(15*sqrt(2))) - C1*np.cos(x/(15*sqrt(2)))\n",
    "    y2 = sqrt(2)*C1*np.sin(x/(15*sqrt(2))) + sqrt(2)*C2*np.cos(x/(15*sqrt(2)))\n",
    "    return([y1,y2])"
   ]
  },
  {
   "cell_type": "markdown",
   "metadata": {},
   "source": [
    "Локальные погрешности в двухэтапном методе"
   ]
  },
  {
   "cell_type": "code",
   "execution_count": 202,
   "metadata": {},
   "outputs": [],
   "source": [
    "def true_yx(xk,yk):\n",
    "    true_y=[yk[0]]\n",
    "    for i in range(1,len(xk)):\n",
    "        true_y.append(real_y(xk[i],xk[i-1],yk[i-1]))\n",
    "    return true_y"
   ]
  },
  {
   "cell_type": "code",
   "execution_count": 203,
   "metadata": {},
   "outputs": [],
   "source": [
    "Rq2.insert(0,1)"
   ]
  },
  {
   "cell_type": "code",
   "execution_count": 204,
   "metadata": {},
   "outputs": [
    {
     "data": {
      "text/plain": [
       "array([1.        , 1.00014119, 1.00027332, 1.00051025, 1.00087373,\n",
       "       1.00058246])"
      ]
     },
     "execution_count": 204,
     "metadata": {},
     "output_type": "execute_result"
    }
   ],
   "source": [
    "zy2 = z2-y2\n",
    "zy2[zy2==0] = 1/sqrt(2)\n",
    "np.linalg.norm(zy2,axis=1)/Rq2"
   ]
  },
  {
   "cell_type": "code",
   "execution_count": 205,
   "metadata": {
    "scrolled": true
   },
   "outputs": [
    {
     "data": {
      "image/png": "[encoded data removed]",
      "text/plain": [
       "<Figure size 432x288 with 1 Axes>"
      ]
     },
     "metadata": {
      "needs_background": "light"
     },
     "output_type": "display_data"
    }
   ],
   "source": [
    "plt.plot(x2,np.linalg.norm(zy2,axis=1)/Rq2)\n",
    "plt.scatter(x2,np.linalg.norm(zy2,axis=1)/Rq2)\n",
    "plt.grid()"
   ]
  },
  {
   "cell_type": "code",
   "execution_count": 206,
   "metadata": {},
   "outputs": [],
   "source": [
    "Rq1.insert(0,1)"
   ]
  },
  {
   "cell_type": "code",
   "execution_count": 207,
   "metadata": {},
   "outputs": [
    {
     "name": "stdout",
     "output_type": "stream",
     "text": [
      "-0.2094395102346813 0.0740480489816512\n",
      "-0.209439510078562 0.07404804937371116\n"
     ]
    }
   ],
   "source": [
    "z1 =np.array(true_yx(x1,y1))"
   ]
  },
  {
   "cell_type": "code",
   "execution_count": 208,
   "metadata": {},
   "outputs": [
    {
     "data": {
      "text/plain": [
       "array([1.        , 1.00010314, 1.00018573, 1.00024027])"
      ]
     },
     "execution_count": 208,
     "metadata": {},
     "output_type": "execute_result"
    }
   ],
   "source": [
    "zy1 = z1-y1\n",
    "zy1[zy1==0] = 1/sqrt(2)\n",
    "np.linalg.norm(zy1,axis=1)/Rq1"
   ]
  },
  {
   "cell_type": "code",
   "execution_count": 209,
   "metadata": {
    "scrolled": true
   },
   "outputs": [
    {
     "data": {
      "image/png": "[encoded data removed]",
      "text/plain": [
       "<Figure size 432x288 with 1 Axes>"
      ]
     },
     "metadata": {
      "needs_background": "light"
     },
     "output_type": "display_data"
    }
   ],
   "source": [
    "plt.plot(x1,np.linalg.norm(zy1,axis=1)/Rq1)\n",
    "plt.scatter(x1,np.linalg.norm(zy1,axis=1)/Rq1)\n",
    "plt.grid()"
   ]
  },
  {
   "cell_type": "markdown",
   "metadata": {},
   "source": [
    "Графики зависимости количества вычислений правой части системы от заданной точности 𝜀:"
   ]
  },
  {
   "cell_type": "code",
   "execution_count": 210,
   "metadata": {},
   "outputs": [],
   "source": [
    "epses = [10**(-i) for i in range(2,6)]"
   ]
  },
  {
   "cell_type": "code",
   "execution_count": 211,
   "metadata": {},
   "outputs": [
    {
     "data": {
      "text/plain": [
       "Text(0, 0.5, 'количество вычислений')"
      ]
     },
     "execution_count": 211,
     "metadata": {},
     "output_type": "execute_result"
    },
    {
     "data": {
      "image/png": "[encoded data removed]",
      "text/plain": [
       "<Figure size 432x288 with 1 Axes>"
      ]
     },
     "metadata": {
      "needs_background": "light"
     },
     "output_type": "display_data"
    }
   ],
   "source": [
    "counts=[]\n",
    "for eps in epses:\n",
    "    y2,x2,steps2,Rq2,count2=custom_R_K(x0,xk,y0,eps,eps*10,y_step,2,c2,mode = 'auto')\n",
    "    counts.append(count2)\n",
    "plt.plot([i for i in range(2,6)],counts)\n",
    "plt.grid()\n",
    "plt.scatter([i for i in range(2,6)],counts)\n",
    "plt.xlabel('степень')\n",
    "plt.ylabel('количество вычислений')"
   ]
  },
  {
   "cell_type": "code",
   "execution_count": 212,
   "metadata": {},
   "outputs": [
    {
     "data": {
      "text/plain": [
       "Text(0, 0.5, 'количество вычислений')"
      ]
     },
     "execution_count": 212,
     "metadata": {},
     "output_type": "execute_result"
    },
    {
     "data": {
      "image/png": "[encoded data removed]",
      "text/plain": [
       "<Figure size 432x288 with 1 Axes>"
      ]
     },
     "metadata": {
      "needs_background": "light"
     },
     "output_type": "display_data"
    }
   ],
   "source": [
    "counts=[]\n",
    "for eps in epses:\n",
    "    y1,x1,steps1,Rq1,count1=custom_R_K(x0,xk,y0,eps,eps*10,y_step_cls,4,mode = 'auto')\n",
    "    counts.append(count1)\n",
    "plt.plot([i for i in range(2,6)],counts)\n",
    "plt.grid()\n",
    "plt.scatter([i for i in range(2,6)],counts)\n",
    "plt.xlabel('степень')\n",
    "plt.ylabel('количество вычислений')"
   ]
  },
  {
   "cell_type": "code",
   "execution_count": null,
   "metadata": {},
   "outputs": [],
   "source": []
  }
 ],
 "metadata": {
  "kernelspec": {
   "display_name": "Python 3",
   "language": "python",
   "name": "python3"
  },
  "language_info": {
   "codemirror_mode": {
    "name": "ipython",
    "version": 3
   },
   "file_extension": ".py",
   "mimetype": "text/x-python",
   "name": "python",
   "nbconvert_exporter": "python",
   "pygments_lexer": "ipython3",
   "version": "3.8.3"
  }
 },
 "nbformat": 4,
 "nbformat_minor": 4
}
